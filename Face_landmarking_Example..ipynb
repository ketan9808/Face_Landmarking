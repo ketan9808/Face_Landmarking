{
 "cells": [
  {
   "cell_type": "code",
   "execution_count": 1,
   "metadata": {},
   "outputs": [],
   "source": [
    "import time\n",
    "import dlib\n",
    "import cv2\n",
    "from imutils import face_utils"
   ]
  },
  {
   "cell_type": "code",
   "execution_count": 2,
   "metadata": {},
   "outputs": [],
   "source": [
    "detector = dlib.get_frontal_face_detector()\n",
    "predictor = dlib.shape_predictor('shape_predictor_5_face_landmarks.dat')"
   ]
  },
  {
   "cell_type": "code",
   "execution_count": 3,
   "metadata": {},
   "outputs": [],
   "source": [
    "vs = cv2.VideoCapture(0)\n",
    "time.sleep(2.0)\n",
    "\n",
    "while True:\n",
    "    # grab the frame from the threaded video stream, resize it to\n",
    "    # have a maximum size of 400x400 pixels, and convert it to\n",
    "    # grayscale\n",
    "    frame = vs.read()[1] #640x480 standard resilution\n",
    "    frame = cv2.resize(frame, (400,400))\n",
    "    gray = cv2.cvtColor(frame, cv2.COLOR_BGR2GRAY)\n",
    "\n",
    "    # detect faces in the grayscale frame\n",
    "    rects = detector(gray, 0) #how many faces are available and their coordinates\n",
    "\n",
    "    # check to see if a face was detected, and if so, draw the total\n",
    "    # number of faces on the frame\n",
    "    if len(rects) > 0:\n",
    "        text = \"{} face(s) found\".format(len(rects))\n",
    "        cv2.putText(frame, text, (10, 20), cv2.FONT_HERSHEY_SIMPLEX,\n",
    "            0.5, (0, 0, 255), 2)\n",
    "    # loop over the face detections\n",
    "    for rect in rects:\n",
    "        # compute the bounding box of the face and draw it on the\n",
    "        # frame\n",
    "        (bX, bY, bW, bH) = face_utils.rect_to_bb(rect)\n",
    "        cv2.rectangle(frame, (bX, bY), (bX + bW, bY + bH),\n",
    "            (0, 255, 0), 1)\n",
    "\n",
    "        # determine the facial landmarks for the face region, then\n",
    "        # convert the facial landmark (x, y)-coordinates to a NumPy\n",
    "        # array\n",
    "        shape = predictor(gray, rect)# face object which contain the\n",
    "        shape = face_utils.shape_to_np(shape) # convert the face object to array\n",
    "        #print(shape) return 5 value of x and y\n",
    "\n",
    "        # loop over the (x, y)-coordinates for the facial landmarks\n",
    "        # and draw each of them\n",
    "        for (i, (x, y)) in enumerate(shape):\n",
    "            cv2.circle(frame, (x, y), 1, (0, 0, 255), -1)\n",
    "            cv2.putText(frame, str(i + 1), (x - 10, y - 10),\n",
    "                cv2.FONT_HERSHEY_SIMPLEX, 0.35, (0, 0, 255), 1)\n",
    "    cv2.imshow(\"Frame\", frame)\n",
    "    key = cv2.waitKey(1) & 0xFF\n",
    "\n",
    "    if key == ord(\"q\"):\n",
    "        break\n",
    "cv2.destroyAllWindows()\n",
    "vs.release()"
   ]
  },
  {
   "cell_type": "code",
   "execution_count": null,
   "metadata": {},
   "outputs": [],
   "source": []
  }
 ],
 "metadata": {
  "kernelspec": {
   "display_name": "Python 3",
   "language": "python3",
   "name": "python3"
  },
  "language_info": {
   "codemirror_mode": {
    "name": "ipython",
    "version": 3
   },
   "file_extension": ".py",
   "mimetype": "text/x-python",
   "name": "python",
   "nbconvert_exporter": "python",
   "pygments_lexer": "ipython3",
   "version": "3.6.9"
  }
 },
 "nbformat": 4,
 "nbformat_minor": 2
}
